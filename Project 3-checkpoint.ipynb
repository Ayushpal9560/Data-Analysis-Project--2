{
 "cells": [
  {
   "cell_type": "code",
   "execution_count": 2,
   "id": "14c41f69-a83c-464d-ae1a-4b62cecbe349",
   "metadata": {},
   "outputs": [],
   "source": [
    "#importing the liberaries \n",
    "import pandas as pd\n",
    "import seaborn as sns\n",
    "import numpy as np\n",
    "import matplotlib as plt"
   ]
  },
  {
   "cell_type": "code",
   "execution_count": 3,
   "id": "ff73efd5-1330-431a-b817-3be598be7bb7",
   "metadata": {},
   "outputs": [],
   "source": [
    "#Reading the csv file\n",
    "data=pd.read_csv('Credit Banking - 3.csv')"
   ]
  },
  {
   "cell_type": "code",
   "execution_count": 4,
   "id": "9101b649-79fa-42f2-a800-1a465925df64",
   "metadata": {},
   "outputs": [
    {
     "name": "stdout",
     "output_type": "stream",
     "text": [
      "      Credit_card  Product_ID       P_CATEGORY     CONDTION  Brand  \\\n",
      "0          4595.0         534            SHOES          New  RKFCM   \n",
      "1          6679.0         396          LUGGAGE          New  TNVON   \n",
      "2          7075.0         449            SHOES  Refurbished  VKKEA   \n",
      "3          1418.0         145          BEDDING          New  PIUEM   \n",
      "4          6740.0         844      ELECTRONICS         Used  FMBZC   \n",
      "...           ...         ...              ...          ...    ...   \n",
      "9994       8609.0         470       APPLIANCES          New  TTNTN   \n",
      "9995       9725.0         406         CLOTHING         Used  ONKHS   \n",
      "9996       1548.0         694      ELECTRONICS          New  AGSDS   \n",
      "9997       4878.0         552            SHOES          New  RKFCM   \n",
      "9998       8532.0         395  OFFICE SUPPLIES          New  WELZA   \n",
      "\n",
      "          Price  Selling_price Coupon_ID        Date      Time     GTIN  \\\n",
      "0     $1,484.74     $1,471.74      BN710  26-08-2014  17:16:17  3109172   \n",
      "1     $1,452.50     $1,442.50      KF815  26-01-2014  15:40:52  7583605   \n",
      "2     $4,308.02     $4,284.02      UG960  03-01-2014  01:29:05  9985192   \n",
      "3     $3,272.59     $3,249.59      DK471  30-05-2014  09:10:00  7720605   \n",
      "4       $628.67       $608.67      OJ311  14-08-2014  05:31:30  8367528   \n",
      "...          ...           ...       ...         ...       ...      ...   \n",
      "9994  $1,187.85     $1,187.85      FL494  09-08-2014  18:09:03  7482917   \n",
      "9995  $2,202.20     $2,202.20      DP660  02-11-2014  12:31:20  6749808   \n",
      "9996  $3,123.80     $3,079.80      VI354  09-02-2014  20:06:24  7644170   \n",
      "9997  $1,257.44     $1,227.44      UQ360  17-01-2014  12:14:24  8336204   \n",
      "9998  $2,909.68     $2,883.68      SI291  26-05-2014  10:40:05  1813449   \n",
      "\n",
      "            MPN       Merchant_name    M_ID          Payment Method  \\\n",
      "0     547836726    Peninsula Beauty  YE5901            Prepaid card   \n",
      "1     279617132            DODOcase  UW7354  Mobile carrier Billing   \n",
      "2     633765867             Staples  VN6656             Credit card   \n",
      "3     734500382  Road Runner Sports  MS6579            Prepaid card   \n",
      "4     241944637          L'Occitane  GN3944              Debit card   \n",
      "...         ...                 ...     ...                     ...   \n",
      "9994  337083364       Cole Hardware  EX7729             Credit card   \n",
      "9995  354170741       Cole Hardware  EX7730            Prepaid card   \n",
      "9996  101023606      Barnes & Noble  EY1659  Mobile carrier Billing   \n",
      "9997  320092897            Gymboree  ZF8986  Mobile carrier Billing   \n",
      "9998  615832837            DODOcase  UW7356             Credit card   \n",
      "\n",
      "      Transaction ID  Return_ind Return_date  \n",
      "0              30462           0         NaN  \n",
      "1              37927           0         NaN  \n",
      "2              80640           0         NaN  \n",
      "3              58692           0         NaN  \n",
      "4              21505           0         NaN  \n",
      "...              ...         ...         ...  \n",
      "9994           17306           0         NaN  \n",
      "9995           41829           0         NaN  \n",
      "9996           34577           0         NaN  \n",
      "9997           43458           0         NaN  \n",
      "9998           82048           0         NaN  \n",
      "\n",
      "[9999 rows x 18 columns]\n"
     ]
    }
   ],
   "source": [
    "print(data)"
   ]
  },
  {
   "cell_type": "code",
   "execution_count": 5,
   "id": "34954b3c-041d-4a6a-aba9-f87197a8612e",
   "metadata": {},
   "outputs": [
    {
     "data": {
      "text/plain": [
       "Credit_card       9994\n",
       "Product_ID        9999\n",
       "P_CATEGORY        9999\n",
       "CONDTION          9999\n",
       "Brand             9999\n",
       "Price             9999\n",
       "Selling_price     9999\n",
       "Coupon_ID         9979\n",
       "Date              9999\n",
       "Time              9999\n",
       "GTIN              9999\n",
       "MPN               9999\n",
       "Merchant_name     9999\n",
       "M_ID              9999\n",
       "Payment Method    9999\n",
       "Transaction ID    9999\n",
       "Return_ind        9999\n",
       "Return_date       1532\n",
       "dtype: int64"
      ]
     },
     "execution_count": 5,
     "metadata": {},
     "output_type": "execute_result"
    }
   ],
   "source": [
    "data.count()"
   ]
  },
  {
   "cell_type": "code",
   "execution_count": 6,
   "id": "26e954e1-6d10-4fda-aec5-16aa390c69c3",
   "metadata": {},
   "outputs": [
    {
     "data": {
      "text/plain": [
       "Index(['Credit_card', 'Product_ID', 'P_CATEGORY', 'CONDTION', 'Brand',\n",
       "       'Price ', 'Selling_price', 'Coupon_ID', 'Date', 'Time', 'GTIN', 'MPN',\n",
       "       'Merchant_name', 'M_ID', 'Payment Method', 'Transaction ID',\n",
       "       'Return_ind', 'Return_date'],\n",
       "      dtype='object')"
      ]
     },
     "execution_count": 6,
     "metadata": {},
     "output_type": "execute_result"
    }
   ],
   "source": [
    "data.columns"
   ]
  },
  {
   "cell_type": "code",
   "execution_count": 7,
   "id": "da4960dc-07de-49ab-842b-d5907a0c10d3",
   "metadata": {},
   "outputs": [
    {
     "data": {
      "text/plain": [
       "Credit_card       float64\n",
       "Product_ID          int64\n",
       "P_CATEGORY         object\n",
       "CONDTION           object\n",
       "Brand              object\n",
       "Price              object\n",
       "Selling_price      object\n",
       "Coupon_ID          object\n",
       "Date               object\n",
       "Time               object\n",
       "GTIN                int64\n",
       "MPN                 int64\n",
       "Merchant_name      object\n",
       "M_ID               object\n",
       "Payment Method     object\n",
       "Transaction ID      int64\n",
       "Return_ind          int64\n",
       "Return_date        object\n",
       "dtype: object"
      ]
     },
     "execution_count": 7,
     "metadata": {},
     "output_type": "execute_result"
    }
   ],
   "source": [
    "data.dtypes"
   ]
  },
  {
   "cell_type": "markdown",
   "id": "6020c49a-a9db-4165-970e-7fb6928d4cec",
   "metadata": {},
   "source": [
    "Data Cleaning"
   ]
  },
  {
   "cell_type": "code",
   "execution_count": 8,
   "id": "d48cca8f-19f2-42e3-afaa-1d107b011434",
   "metadata": {},
   "outputs": [],
   "source": [
    "data['Credit_card']=data['Credit_card'].replace([np.nan],0)"
   ]
  },
  {
   "cell_type": "code",
   "execution_count": 9,
   "id": "ce9114dc-a909-4db4-9b9f-8d323a270c04",
   "metadata": {},
   "outputs": [],
   "source": [
    "data['Credit_card']=data['Credit_card'].astype(int)"
   ]
  },
  {
   "cell_type": "code",
   "execution_count": 10,
   "id": "1952f2b0-6077-470f-96be-2e9c8aa5cd51",
   "metadata": {},
   "outputs": [],
   "source": [
    "data['Price '] = data['Price '].replace('[$]', '', regex=True)"
   ]
  },
  {
   "cell_type": "code",
   "execution_count": 11,
   "id": "53547e1b-113b-4721-bf69-7185798ef9f5",
   "metadata": {},
   "outputs": [],
   "source": [
    "data['Price '] = data['Price '].replace('[,]', '', regex=True).astype(float)"
   ]
  },
  {
   "cell_type": "code",
   "execution_count": 12,
   "id": "16f43607-d57d-44ae-9b09-cec13d9dec2d",
   "metadata": {},
   "outputs": [],
   "source": [
    "data['Price ']=data['Price '].astype(int)"
   ]
  },
  {
   "cell_type": "code",
   "execution_count": 13,
   "id": "3ded4bed-7a7f-4c91-b611-fdd0a061362a",
   "metadata": {},
   "outputs": [],
   "source": [
    "data['Selling_price'] = data['Selling_price'].replace('[$]', '', regex=True)"
   ]
  },
  {
   "cell_type": "code",
   "execution_count": 14,
   "id": "91769295-b2d3-4a4b-84bc-d5bd26ae75ba",
   "metadata": {},
   "outputs": [],
   "source": [
    "data['Selling_price'] = data['Selling_price'].replace('[,]', '', regex=True)"
   ]
  },
  {
   "cell_type": "code",
   "execution_count": 15,
   "id": "049c0558-c0bc-404e-bf25-0684ac29ff5a",
   "metadata": {},
   "outputs": [],
   "source": [
    "data['Selling_price'] = data['Selling_price'].replace('[()]', '', regex=True).astype(float)"
   ]
  },
  {
   "cell_type": "code",
   "execution_count": 16,
   "id": "eca76970-b72c-43b8-9c06-d82b3e6e73f3",
   "metadata": {},
   "outputs": [],
   "source": [
    "data['Selling_price']=data['Selling_price'].astype(int)"
   ]
  },
  {
   "cell_type": "code",
   "execution_count": 17,
   "id": "50d8670f-babe-4cf1-b30b-8ff83f1c084f",
   "metadata": {},
   "outputs": [],
   "source": [
    "data['Date']=pd.to_datetime(data['Date'],dayfirst=True)"
   ]
  },
  {
   "cell_type": "code",
   "execution_count": 18,
   "id": "0e2f8171-7a68-45c4-ab0d-a62e8d1d1de7",
   "metadata": {},
   "outputs": [],
   "source": [
    "data['Return_date']=data['Return_date'].fillna(0)"
   ]
  },
  {
   "cell_type": "code",
   "execution_count": 19,
   "id": "ba0dca8d-b875-4cc9-bb94-21cb0b0c14ac",
   "metadata": {},
   "outputs": [],
   "source": [
    "data['Return_date']=pd.to_datetime(data['Return_date'],dayfirst=True)"
   ]
  },
  {
   "cell_type": "code",
   "execution_count": 20,
   "id": "e659fc6c-05f6-4d6c-8298-79cc8d0423f7",
   "metadata": {},
   "outputs": [],
   "source": [
    "equal_selling_price_and_price= np.where(data['Price ']==data['Selling_price'])"
   ]
  },
  {
   "cell_type": "code",
   "execution_count": 21,
   "id": "42e07e5a-fd89-4b5e-9de6-85179fa6ccfc",
   "metadata": {},
   "outputs": [
    {
     "name": "stdout",
     "output_type": "stream",
     "text": [
      "(array([  16,   27,   77,  127,  177,  178,  179,  180,  189,  190,  204,\n",
      "        205,  206,  220,  221,  222,  411,  412,  413,  453,  471,  485,\n",
      "        495,  496,  511,  512,  524,  525,  526,  559,  560,  561,  806,\n",
      "        807,  808,  845,  846,  847,  882,  883,  884,  885,  886,  887,\n",
      "        888,  931,  932,  933,  934,  935, 5372, 5373, 5374, 5375, 5376,\n",
      "       5377, 5378, 7210, 7211, 7212, 7213, 7214, 8215, 8216, 8217, 8218,\n",
      "       8219, 8220, 8221, 8771, 8772, 8773, 8774, 8775, 8776, 8777, 9075,\n",
      "       9076, 9077, 9078, 9079, 9080, 9081, 9310, 9311, 9312, 9313, 9314,\n",
      "       9584, 9585, 9586, 9587, 9588, 9993, 9994, 9995], dtype=int64),)\n"
     ]
    }
   ],
   "source": [
    "print(equal_selling_price_and_price)"
   ]
  },
  {
   "cell_type": "code",
   "execution_count": 22,
   "id": "c452037d-efea-45b3-b432-5e607cc8e676",
   "metadata": {},
   "outputs": [],
   "source": [
    "selected_rows = data.iloc[equal_selling_price_and_price]"
   ]
  },
  {
   "cell_type": "code",
   "execution_count": 23,
   "id": "e12ccd82-fd6b-4ea7-acfa-5d07cd32ab20",
   "metadata": {},
   "outputs": [],
   "source": [
    "selected_values = selected_rows['Selling_price']"
   ]
  },
  {
   "cell_type": "code",
   "execution_count": 24,
   "id": "d35e5b16-264d-40bc-9099-300cb66be8ce",
   "metadata": {},
   "outputs": [],
   "source": [
    "discounted_values= (selected_values-(selected_values*5/100))"
   ]
  },
  {
   "cell_type": "code",
   "execution_count": 25,
   "id": "24c32262-9e77-4e26-93ca-f77c99c83dfe",
   "metadata": {},
   "outputs": [],
   "source": [
    "data['return_date_is_after_purchase date']=data['Return_date']>data['Date']"
   ]
  },
  {
   "cell_type": "code",
   "execution_count": 26,
   "id": "61da2b51-609a-4230-8a15-d242ae473877",
   "metadata": {},
   "outputs": [],
   "source": [
    "coupon_code_is_null= data.index[data['Coupon_ID'].isna()]"
   ]
  },
  {
   "cell_type": "code",
   "execution_count": 27,
   "id": "c96c65a5-6027-414d-8acd-a9eddeea8bc6",
   "metadata": {},
   "outputs": [
    {
     "name": "stdout",
     "output_type": "stream",
     "text": [
      "Index([  5,  23,  37,  61,  85, 105, 134, 166, 201, 237, 272, 298, 323, 353,\n",
      "       377, 399, 417, 418, 445, 505],\n",
      "      dtype='int64')\n"
     ]
    }
   ],
   "source": [
    "print(coupon_code_is_null)"
   ]
  },
  {
   "cell_type": "code",
   "execution_count": 28,
   "id": "26a05b8e-08eb-4426-b982-b08bf934cf66",
   "metadata": {},
   "outputs": [],
   "source": [
    "data.loc[coupon_code_is_null, 'Selling_price'] = data.loc[coupon_code_is_null, 'Price ']"
   ]
  },
  {
   "cell_type": "code",
   "execution_count": 29,
   "id": "0751102e-5997-4c88-81e6-9c5092af0e73",
   "metadata": {},
   "outputs": [],
   "source": [
    "data2=pd.read_csv('Credit Banking - 3 second page.csv')"
   ]
  },
  {
   "cell_type": "code",
   "execution_count": 30,
   "id": "65bcf0b7-0946-47d2-a3ee-f5657d746fd8",
   "metadata": {},
   "outputs": [
    {
     "name": "stdout",
     "output_type": "stream",
     "text": [
      "     Credit_card                  Email       Name  Mobile_number Gender  Age  \\\n",
      "0           3768    eddie@yahoomail.com      EDDIE     9045258449      M   83   \n",
      "1           4852       rose@hotmail.com       ROSE     8834789103      F   87   \n",
      "2           1174      amy@yahoomail.com        AMY     9557690013      F   31   \n",
      "3           4807     clarence@gmail.com   CLARENCE     9394398429      M   37   \n",
      "4           9131     johnny@hotmail.com     JOHNNY     9976623538      F   80   \n",
      "..           ...                    ...        ...            ...    ...  ...   \n",
      "193         4575     tina@yahoomail.com       TINA     8819353220      F   56   \n",
      "194         3958     gordon@hotmail.com     GORDON     8853153218      M   87   \n",
      "195         8609   jennifer@hotmail.com   JENNIFER     9935042642      F   93   \n",
      "196         4542   michelle@hotmail.com   MICHELLE     9730382145      F   60   \n",
      "197         9532  katherine@hotmail.com  KATHERINE     9033150890      M   18   \n",
      "\n",
      "           City        State Address  \n",
      "0     Louisville    Kentucky  Masked  \n",
      "1    Kansas City    Missouri  Masked  \n",
      "2        Seattle  Washington  Masked  \n",
      "3        Seattle  Washington  Masked  \n",
      "4       Columbus        Ohio  Masked  \n",
      "..           ...         ...     ...  \n",
      "193       Austin       Texas  Masked  \n",
      "194      Seattle  Washington  Masked  \n",
      "195      Seattle  Washington  Masked  \n",
      "196   Louisville    Kentucky  Masked  \n",
      "197     San Jose  California  Masked  \n",
      "\n",
      "[198 rows x 9 columns]\n"
     ]
    }
   ],
   "source": [
    "print(data2)"
   ]
  },
  {
   "cell_type": "code",
   "execution_count": 31,
   "id": "fbb9b1d2-0923-422e-bf71-49a72a3bccf3",
   "metadata": {},
   "outputs": [
    {
     "data": {
      "text/plain": [
       "Credit_card       int64\n",
       "Email            object\n",
       "Name             object\n",
       "Mobile_number     int64\n",
       "Gender           object\n",
       "Age               int64\n",
       "City             object\n",
       "State            object\n",
       "Address          object\n",
       "dtype: object"
      ]
     },
     "execution_count": 31,
     "metadata": {},
     "output_type": "execute_result"
    }
   ],
   "source": [
    "data2.dtypes"
   ]
  },
  {
   "cell_type": "code",
   "execution_count": 32,
   "id": "98cd9e50-e4c9-499e-acf9-843708ce9f28",
   "metadata": {},
   "outputs": [],
   "source": [
    "age_is_less=data2.index[data2['Age']<18]"
   ]
  },
  {
   "cell_type": "code",
   "execution_count": 33,
   "id": "ded0a012-6d1c-4583-ab95-9296617fd175",
   "metadata": {},
   "outputs": [],
   "source": [
    "data2 = data2.drop(index=age_is_less)"
   ]
  },
  {
   "cell_type": "code",
   "execution_count": 34,
   "id": "50a4bf1f-dc72-4c7a-96aa-56cbefe07bb4",
   "metadata": {},
   "outputs": [],
   "source": [
    "data2=data2.reset_index(drop=True)"
   ]
  },
  {
   "cell_type": "code",
   "execution_count": 35,
   "id": "8d94cf75-4837-4abe-8870-b564331e5dc3",
   "metadata": {},
   "outputs": [
    {
     "data": {
      "text/plain": [
       "Credit_card                    3500\n",
       "Email            cheryl@hotmail.com\n",
       "Name                         CHERYL\n",
       "Mobile_number            8881689041\n",
       "Gender                            F\n",
       "Age                              73\n",
       "City                        Seattle\n",
       "State                    Washington\n",
       "Address                      Masked\n",
       "Name: 38, dtype: object"
      ]
     },
     "execution_count": 35,
     "metadata": {},
     "output_type": "execute_result"
    }
   ],
   "source": [
    "data2.loc[38]"
   ]
  },
  {
   "cell_type": "code",
   "execution_count": 36,
   "id": "cc67e0d9-f048-44bb-83dd-c711cf11a1d0",
   "metadata": {},
   "outputs": [
    {
     "data": {
      "text/plain": [
       "<bound method Series.unique of 0      3768\n",
       "1      4852\n",
       "2      1174\n",
       "3      4807\n",
       "4      9131\n",
       "       ... \n",
       "182    4575\n",
       "183    3958\n",
       "184    8609\n",
       "185    4542\n",
       "186    9532\n",
       "Name: Credit_card, Length: 187, dtype: int64>"
      ]
     },
     "execution_count": 36,
     "metadata": {},
     "output_type": "execute_result"
    }
   ],
   "source": [
    "data2['Credit_card'].unique"
   ]
  },
  {
   "cell_type": "markdown",
   "id": "94dbf2fb-f3c1-464a-9bbe-c02cc75ce1cb",
   "metadata": {},
   "source": [
    "From the above code we can say that the credit card id is unique for every customer because this code only give the unique value of the column and the length of column and the data set are same."
   ]
  },
  {
   "cell_type": "code",
   "execution_count": 37,
   "id": "d831182b-c54c-4871-a7c7-257699552720",
   "metadata": {},
   "outputs": [
    {
     "data": {
      "text/plain": [
       "Index(['Credit_card', 'Product_ID', 'P_CATEGORY', 'CONDTION', 'Brand',\n",
       "       'Price ', 'Selling_price', 'Coupon_ID', 'Date', 'Time', 'GTIN', 'MPN',\n",
       "       'Merchant_name', 'M_ID', 'Payment Method', 'Transaction ID',\n",
       "       'Return_ind', 'Return_date', 'return_date_is_after_purchase date'],\n",
       "      dtype='object')"
      ]
     },
     "execution_count": 37,
     "metadata": {},
     "output_type": "execute_result"
    }
   ],
   "source": [
    "data.columns"
   ]
  },
  {
   "cell_type": "markdown",
   "id": "ee6a681e-46fc-45cf-a2a5-1a8b1bc985c3",
   "metadata": {},
   "source": [
    "Task 1"
   ]
  },
  {
   "cell_type": "code",
   "execution_count": 38,
   "id": "53555edf-2ba8-4784-958e-0559d0890f81",
   "metadata": {},
   "outputs": [
    {
     "data": {
      "text/plain": [
       "Index(['Credit_card', 'Email', 'Name', 'Mobile_number', 'Gender', 'Age',\n",
       "       'City ', 'State', 'Address'],\n",
       "      dtype='object')"
      ]
     },
     "execution_count": 38,
     "metadata": {},
     "output_type": "execute_result"
    }
   ],
   "source": [
    "data2.columns"
   ]
  },
  {
   "cell_type": "code",
   "execution_count": 39,
   "id": "8229282f-75ab-42d9-8bef-a28ee9dbd452",
   "metadata": {},
   "outputs": [],
   "source": [
    "data2['Age_Category']=''"
   ]
  },
  {
   "cell_type": "code",
   "execution_count": 40,
   "id": "141b413b-48d0-4689-9d4a-c60d91ac4bd7",
   "metadata": {},
   "outputs": [],
   "source": [
    "df_young_female_index=data2.index[(data2['Age']<=40) & (data2['Gender']=='F')]"
   ]
  },
  {
   "cell_type": "code",
   "execution_count": 41,
   "id": "3b20c6b2-3a63-4351-8608-e953e0a19341",
   "metadata": {},
   "outputs": [],
   "source": [
    "data2.loc[df_young_female_index, 'Age_Category'] = 'Young_Females'"
   ]
  },
  {
   "cell_type": "code",
   "execution_count": 42,
   "id": "fea3b116-e424-4df1-aaf7-fef40bdbed12",
   "metadata": {},
   "outputs": [],
   "source": [
    "df_mid_age_female_index=data2.index[(data2['Age']>40) & (data2['Age']<=60)&(data2['Gender']=='F')]"
   ]
  },
  {
   "cell_type": "code",
   "execution_count": 43,
   "id": "36b39f4d-4ad4-4548-aa1e-462b88387b8a",
   "metadata": {},
   "outputs": [],
   "source": [
    "data2.loc[df_mid_age_female_index, 'Age_Category'] = 'Mid_age_Females'"
   ]
  },
  {
   "cell_type": "code",
   "execution_count": 44,
   "id": "b6f34cc3-c971-4dd6-aca0-b0088d9bd44a",
   "metadata": {},
   "outputs": [],
   "source": [
    "df_old_age_female_index=data2.index[(data2['Age']>60) & (data2['Gender']=='F')]"
   ]
  },
  {
   "cell_type": "code",
   "execution_count": 45,
   "id": "e1581c83-ff65-4603-9e1f-3533f6fc9260",
   "metadata": {},
   "outputs": [],
   "source": [
    "data2.loc[df_old_age_female_index, 'Age_Category'] = 'Old_Females'"
   ]
  },
  {
   "cell_type": "code",
   "execution_count": 46,
   "id": "11dc35cf-4a8b-49b5-a640-b8dcabb8ef16",
   "metadata": {},
   "outputs": [],
   "source": [
    "Young_Males=data2.index[(data2['Age']<=40) & (data2['Gender']=='M')]"
   ]
  },
  {
   "cell_type": "code",
   "execution_count": 47,
   "id": "d387f794-298e-4823-9b4e-4d224dff1a4f",
   "metadata": {},
   "outputs": [],
   "source": [
    "data2.loc[Young_Males,'Age_Category']='Young_Males'"
   ]
  },
  {
   "cell_type": "code",
   "execution_count": 48,
   "id": "e375a0de-bb65-41d2-930a-af8782215cd1",
   "metadata": {},
   "outputs": [],
   "source": [
    "Mid_age_Males=data2.index[(data2['Age']>40) & (data2['Age']<=60) & (data2['Gender']=='M')]"
   ]
  },
  {
   "cell_type": "code",
   "execution_count": 49,
   "id": "87aee157-ccac-413c-87e3-5aba0a160e16",
   "metadata": {},
   "outputs": [],
   "source": [
    "data2.loc[Mid_age_Males,'Age_Category']='Mid_age_Males'"
   ]
  },
  {
   "cell_type": "code",
   "execution_count": 50,
   "id": "b7e8c553-9cdb-4061-a00a-a09508f3efb9",
   "metadata": {},
   "outputs": [],
   "source": [
    "Old_age_Males=data2.index[(data2['Age']>60) & (data2['Gender']=='M')]"
   ]
  },
  {
   "cell_type": "code",
   "execution_count": 51,
   "id": "491debaf-4f3e-42ee-bf76-a79f87ea8725",
   "metadata": {},
   "outputs": [],
   "source": [
    "data2.loc[Old_age_Males,'Age_Category']='Old_age_Males'"
   ]
  },
  {
   "cell_type": "code",
   "execution_count": 52,
   "id": "dbfdd68d-a520-406b-a666-6bf65796715c",
   "metadata": {},
   "outputs": [
    {
     "data": {
      "text/html": [
       "<div>\n",
       "<style scoped>\n",
       "    .dataframe tbody tr th:only-of-type {\n",
       "        vertical-align: middle;\n",
       "    }\n",
       "\n",
       "    .dataframe tbody tr th {\n",
       "        vertical-align: top;\n",
       "    }\n",
       "\n",
       "    .dataframe thead th {\n",
       "        text-align: right;\n",
       "    }\n",
       "</style>\n",
       "<table border=\"1\" class=\"dataframe\">\n",
       "  <thead>\n",
       "    <tr style=\"text-align: right;\">\n",
       "      <th></th>\n",
       "      <th>Credit_card</th>\n",
       "      <th>Email</th>\n",
       "      <th>Name</th>\n",
       "      <th>Mobile_number</th>\n",
       "      <th>Gender</th>\n",
       "      <th>Age</th>\n",
       "      <th>City</th>\n",
       "      <th>State</th>\n",
       "      <th>Address</th>\n",
       "      <th>Age_Category</th>\n",
       "    </tr>\n",
       "  </thead>\n",
       "  <tbody>\n",
       "    <tr>\n",
       "      <th>0</th>\n",
       "      <td>3768</td>\n",
       "      <td>eddie@yahoomail.com</td>\n",
       "      <td>EDDIE</td>\n",
       "      <td>9045258449</td>\n",
       "      <td>M</td>\n",
       "      <td>83</td>\n",
       "      <td>Louisville</td>\n",
       "      <td>Kentucky</td>\n",
       "      <td>Masked</td>\n",
       "      <td>Old_age_Males</td>\n",
       "    </tr>\n",
       "    <tr>\n",
       "      <th>1</th>\n",
       "      <td>4852</td>\n",
       "      <td>rose@hotmail.com</td>\n",
       "      <td>ROSE</td>\n",
       "      <td>8834789103</td>\n",
       "      <td>F</td>\n",
       "      <td>87</td>\n",
       "      <td>Kansas City</td>\n",
       "      <td>Missouri</td>\n",
       "      <td>Masked</td>\n",
       "      <td>Old_Females</td>\n",
       "    </tr>\n",
       "    <tr>\n",
       "      <th>2</th>\n",
       "      <td>1174</td>\n",
       "      <td>amy@yahoomail.com</td>\n",
       "      <td>AMY</td>\n",
       "      <td>9557690013</td>\n",
       "      <td>F</td>\n",
       "      <td>31</td>\n",
       "      <td>Seattle</td>\n",
       "      <td>Washington</td>\n",
       "      <td>Masked</td>\n",
       "      <td>Young_Females</td>\n",
       "    </tr>\n",
       "    <tr>\n",
       "      <th>3</th>\n",
       "      <td>4807</td>\n",
       "      <td>clarence@gmail.com</td>\n",
       "      <td>CLARENCE</td>\n",
       "      <td>9394398429</td>\n",
       "      <td>M</td>\n",
       "      <td>37</td>\n",
       "      <td>Seattle</td>\n",
       "      <td>Washington</td>\n",
       "      <td>Masked</td>\n",
       "      <td>Young_Males</td>\n",
       "    </tr>\n",
       "    <tr>\n",
       "      <th>4</th>\n",
       "      <td>9131</td>\n",
       "      <td>johnny@hotmail.com</td>\n",
       "      <td>JOHNNY</td>\n",
       "      <td>9976623538</td>\n",
       "      <td>F</td>\n",
       "      <td>80</td>\n",
       "      <td>Columbus</td>\n",
       "      <td>Ohio</td>\n",
       "      <td>Masked</td>\n",
       "      <td>Old_Females</td>\n",
       "    </tr>\n",
       "    <tr>\n",
       "      <th>...</th>\n",
       "      <td>...</td>\n",
       "      <td>...</td>\n",
       "      <td>...</td>\n",
       "      <td>...</td>\n",
       "      <td>...</td>\n",
       "      <td>...</td>\n",
       "      <td>...</td>\n",
       "      <td>...</td>\n",
       "      <td>...</td>\n",
       "      <td>...</td>\n",
       "    </tr>\n",
       "    <tr>\n",
       "      <th>182</th>\n",
       "      <td>4575</td>\n",
       "      <td>tina@yahoomail.com</td>\n",
       "      <td>TINA</td>\n",
       "      <td>8819353220</td>\n",
       "      <td>F</td>\n",
       "      <td>56</td>\n",
       "      <td>Austin</td>\n",
       "      <td>Texas</td>\n",
       "      <td>Masked</td>\n",
       "      <td>Mid_age_Females</td>\n",
       "    </tr>\n",
       "    <tr>\n",
       "      <th>183</th>\n",
       "      <td>3958</td>\n",
       "      <td>gordon@hotmail.com</td>\n",
       "      <td>GORDON</td>\n",
       "      <td>8853153218</td>\n",
       "      <td>M</td>\n",
       "      <td>87</td>\n",
       "      <td>Seattle</td>\n",
       "      <td>Washington</td>\n",
       "      <td>Masked</td>\n",
       "      <td>Old_age_Males</td>\n",
       "    </tr>\n",
       "    <tr>\n",
       "      <th>184</th>\n",
       "      <td>8609</td>\n",
       "      <td>jennifer@hotmail.com</td>\n",
       "      <td>JENNIFER</td>\n",
       "      <td>9935042642</td>\n",
       "      <td>F</td>\n",
       "      <td>93</td>\n",
       "      <td>Seattle</td>\n",
       "      <td>Washington</td>\n",
       "      <td>Masked</td>\n",
       "      <td>Old_Females</td>\n",
       "    </tr>\n",
       "    <tr>\n",
       "      <th>185</th>\n",
       "      <td>4542</td>\n",
       "      <td>michelle@hotmail.com</td>\n",
       "      <td>MICHELLE</td>\n",
       "      <td>9730382145</td>\n",
       "      <td>F</td>\n",
       "      <td>60</td>\n",
       "      <td>Louisville</td>\n",
       "      <td>Kentucky</td>\n",
       "      <td>Masked</td>\n",
       "      <td>Mid_age_Females</td>\n",
       "    </tr>\n",
       "    <tr>\n",
       "      <th>186</th>\n",
       "      <td>9532</td>\n",
       "      <td>katherine@hotmail.com</td>\n",
       "      <td>KATHERINE</td>\n",
       "      <td>9033150890</td>\n",
       "      <td>M</td>\n",
       "      <td>18</td>\n",
       "      <td>San Jose</td>\n",
       "      <td>California</td>\n",
       "      <td>Masked</td>\n",
       "      <td>Young_Males</td>\n",
       "    </tr>\n",
       "  </tbody>\n",
       "</table>\n",
       "<p>187 rows × 10 columns</p>\n",
       "</div>"
      ],
      "text/plain": [
       "     Credit_card                  Email       Name  Mobile_number Gender  Age  \\\n",
       "0           3768    eddie@yahoomail.com      EDDIE     9045258449      M   83   \n",
       "1           4852       rose@hotmail.com       ROSE     8834789103      F   87   \n",
       "2           1174      amy@yahoomail.com        AMY     9557690013      F   31   \n",
       "3           4807     clarence@gmail.com   CLARENCE     9394398429      M   37   \n",
       "4           9131     johnny@hotmail.com     JOHNNY     9976623538      F   80   \n",
       "..           ...                    ...        ...            ...    ...  ...   \n",
       "182         4575     tina@yahoomail.com       TINA     8819353220      F   56   \n",
       "183         3958     gordon@hotmail.com     GORDON     8853153218      M   87   \n",
       "184         8609   jennifer@hotmail.com   JENNIFER     9935042642      F   93   \n",
       "185         4542   michelle@hotmail.com   MICHELLE     9730382145      F   60   \n",
       "186         9532  katherine@hotmail.com  KATHERINE     9033150890      M   18   \n",
       "\n",
       "           City        State Address     Age_Category  \n",
       "0     Louisville    Kentucky  Masked    Old_age_Males  \n",
       "1    Kansas City    Missouri  Masked      Old_Females  \n",
       "2        Seattle  Washington  Masked    Young_Females  \n",
       "3        Seattle  Washington  Masked      Young_Males  \n",
       "4       Columbus        Ohio  Masked      Old_Females  \n",
       "..           ...         ...     ...              ...  \n",
       "182       Austin       Texas  Masked  Mid_age_Females  \n",
       "183      Seattle  Washington  Masked    Old_age_Males  \n",
       "184      Seattle  Washington  Masked      Old_Females  \n",
       "185   Louisville    Kentucky  Masked  Mid_age_Females  \n",
       "186     San Jose  California  Masked      Young_Males  \n",
       "\n",
       "[187 rows x 10 columns]"
      ]
     },
     "execution_count": 52,
     "metadata": {},
     "output_type": "execute_result"
    }
   ],
   "source": [
    "data2"
   ]
  },
  {
   "cell_type": "markdown",
   "id": "f79974a6-27a6-4cb6-95c5-73cc6854edb7",
   "metadata": {},
   "source": [
    "Task 2"
   ]
  },
  {
   "cell_type": "code",
   "execution_count": 53,
   "id": "bd4288cf-3435-470c-be55-35edc3c0474e",
   "metadata": {},
   "outputs": [],
   "source": [
    "df_combined=data.merge(data2,on='Credit_card')"
   ]
  },
  {
   "cell_type": "code",
   "execution_count": 54,
   "id": "1e44c70c-7bd7-48a2-8a48-2314a1bdd1b3",
   "metadata": {},
   "outputs": [],
   "source": [
    "df_spend_on_product_category=data.groupby('P_CATEGORY')['Selling_price'].sum().sort_values(ascending=False)"
   ]
  },
  {
   "cell_type": "code",
   "execution_count": 55,
   "id": "b96c6021-1cf9-468f-9dff-9cc10c3fc4e4",
   "metadata": {},
   "outputs": [],
   "source": [
    "df_spend_in_city=df_combined.groupby('City ')['Selling_price'].sum().sort_values(ascending=False)"
   ]
  },
  {
   "cell_type": "code",
   "execution_count": 56,
   "id": "a80e2a5c-e371-458e-ab0c-444b2ac6ef52",
   "metadata": {},
   "outputs": [],
   "source": [
    "df_spend_from_different_payment_method=df_combined.groupby('Payment Method')['Selling_price'].sum().sort_values(ascending=False)"
   ]
  },
  {
   "cell_type": "markdown",
   "id": "f27a1c8a-23ed-4fc9-b651-324de674de0c",
   "metadata": {},
   "source": [
    "Task 3"
   ]
  },
  {
   "cell_type": "code",
   "execution_count": 57,
   "id": "35c60d66-f28b-439a-8378-0064fa2c5ca4",
   "metadata": {},
   "outputs": [
    {
     "data": {
      "text/plain": [
       "P_CATEGORY\n",
       "DECOR              3200423\n",
       "COMPUTERS          3060948\n",
       "ELECTRONICS        2684788\n",
       "OFFICE SUPPLIES    2465747\n",
       "SHOES              2297932\n",
       "Name: Selling_price, dtype: int32"
      ]
     },
     "execution_count": 57,
     "metadata": {},
     "output_type": "execute_result"
    }
   ],
   "source": [
    "df_spend_on_product_category.head()"
   ]
  },
  {
   "cell_type": "code",
   "execution_count": 58,
   "id": "bc6621ea-9c23-49b9-9706-551291d3b685",
   "metadata": {},
   "outputs": [
    {
     "data": {
      "text/plain": [
       "City \n",
       "Seattle          2122500\n",
       "Chicago          2006585\n",
       "Los Angeles      1962464\n",
       "Louisville       1950493\n",
       "San Francisco    1892234\n",
       "Name: Selling_price, dtype: int32"
      ]
     },
     "execution_count": 58,
     "metadata": {},
     "output_type": "execute_result"
    }
   ],
   "source": [
    "df_spend_in_city.head()"
   ]
  },
  {
   "cell_type": "code",
   "execution_count": 59,
   "id": "d7937659-bbd9-42d6-a9df-9b091c9fd794",
   "metadata": {},
   "outputs": [
    {
     "data": {
      "text/plain": [
       "Payment Method\n",
       "Mobile carrier Billing    10104350\n",
       "Credit card                8825501\n",
       "Prepaid card               4225844\n",
       "Debit card                  831263\n",
       "Paypal wallet               223621\n",
       "Name: Selling_price, dtype: int32"
      ]
     },
     "execution_count": 59,
     "metadata": {},
     "output_type": "execute_result"
    }
   ],
   "source": [
    "df_spend_from_different_payment_method.head()"
   ]
  },
  {
   "cell_type": "markdown",
   "id": "921c10dd-6e1a-47b3-abd9-d309fe6da885",
   "metadata": {},
   "source": [
    "Task 4"
   ]
  },
  {
   "cell_type": "code",
   "execution_count": 85,
   "id": "ac612b08-bc0d-4cfa-acb2-5111c326847a",
   "metadata": {},
   "outputs": [],
   "source": [
    "df_return_customer_data=df_combined.index[df_combined['Return_date']!='1970-01-01']"
   ]
  },
  {
   "cell_type": "code",
   "execution_count": 86,
   "id": "dd6258d9-1e8d-4339-9cfd-5cb4fe9d99ef",
   "metadata": {},
   "outputs": [
    {
     "data": {
      "text/html": [
       "<div>\n",
       "<style scoped>\n",
       "    .dataframe tbody tr th:only-of-type {\n",
       "        vertical-align: middle;\n",
       "    }\n",
       "\n",
       "    .dataframe tbody tr th {\n",
       "        vertical-align: top;\n",
       "    }\n",
       "\n",
       "    .dataframe thead th {\n",
       "        text-align: right;\n",
       "    }\n",
       "</style>\n",
       "<table border=\"1\" class=\"dataframe\">\n",
       "  <thead>\n",
       "    <tr style=\"text-align: right;\">\n",
       "      <th></th>\n",
       "      <th>Return_date</th>\n",
       "      <th>State</th>\n",
       "      <th>Age_Category</th>\n",
       "      <th>CONDTION</th>\n",
       "      <th>P_CATEGORY</th>\n",
       "      <th>Coupon_ID</th>\n",
       "    </tr>\n",
       "  </thead>\n",
       "  <tbody>\n",
       "    <tr>\n",
       "      <th>5</th>\n",
       "      <td>2014-05-22</td>\n",
       "      <td>Massachusetts</td>\n",
       "      <td>Old_age_Males</td>\n",
       "      <td>Refurbished</td>\n",
       "      <td>DECOR</td>\n",
       "      <td>GK692</td>\n",
       "    </tr>\n",
       "    <tr>\n",
       "      <th>6</th>\n",
       "      <td>2014-10-28</td>\n",
       "      <td>Massachusetts</td>\n",
       "      <td>Old_age_Males</td>\n",
       "      <td>New</td>\n",
       "      <td>BABY CLOTHING</td>\n",
       "      <td>EJ951</td>\n",
       "    </tr>\n",
       "    <tr>\n",
       "      <th>7</th>\n",
       "      <td>2014-01-23</td>\n",
       "      <td>Massachusetts</td>\n",
       "      <td>Old_age_Males</td>\n",
       "      <td>Used</td>\n",
       "      <td>OFFICE SUPPLIES</td>\n",
       "      <td>BW988</td>\n",
       "    </tr>\n",
       "    <tr>\n",
       "      <th>8</th>\n",
       "      <td>2014-09-02</td>\n",
       "      <td>Massachusetts</td>\n",
       "      <td>Old_age_Males</td>\n",
       "      <td>New</td>\n",
       "      <td>SHOES</td>\n",
       "      <td>BN710</td>\n",
       "    </tr>\n",
       "    <tr>\n",
       "      <th>9</th>\n",
       "      <td>2014-04-11</td>\n",
       "      <td>Massachusetts</td>\n",
       "      <td>Old_age_Males</td>\n",
       "      <td>Used</td>\n",
       "      <td>LUGGAGE</td>\n",
       "      <td>GQ188</td>\n",
       "    </tr>\n",
       "    <tr>\n",
       "      <th>...</th>\n",
       "      <td>...</td>\n",
       "      <td>...</td>\n",
       "      <td>...</td>\n",
       "      <td>...</td>\n",
       "      <td>...</td>\n",
       "      <td>...</td>\n",
       "    </tr>\n",
       "    <tr>\n",
       "      <th>9334</th>\n",
       "      <td>2014-02-21</td>\n",
       "      <td>Arizona</td>\n",
       "      <td>Old_age_Males</td>\n",
       "      <td>New</td>\n",
       "      <td>KITCHEN &amp; DINING</td>\n",
       "      <td>CI397</td>\n",
       "    </tr>\n",
       "    <tr>\n",
       "      <th>9359</th>\n",
       "      <td>2014-03-24</td>\n",
       "      <td>Illinois</td>\n",
       "      <td>Old_age_Males</td>\n",
       "      <td>New</td>\n",
       "      <td>KITCHEN &amp; DINING</td>\n",
       "      <td>QB548</td>\n",
       "    </tr>\n",
       "    <tr>\n",
       "      <th>9360</th>\n",
       "      <td>2014-04-08</td>\n",
       "      <td>Illinois</td>\n",
       "      <td>Old_age_Males</td>\n",
       "      <td>Used</td>\n",
       "      <td>GAMES</td>\n",
       "      <td>HA460</td>\n",
       "    </tr>\n",
       "    <tr>\n",
       "      <th>9361</th>\n",
       "      <td>2014-03-29</td>\n",
       "      <td>Illinois</td>\n",
       "      <td>Old_age_Males</td>\n",
       "      <td>New</td>\n",
       "      <td>KITCHEN &amp; DINING</td>\n",
       "      <td>XY385</td>\n",
       "    </tr>\n",
       "    <tr>\n",
       "      <th>9362</th>\n",
       "      <td>2014-01-29</td>\n",
       "      <td>Illinois</td>\n",
       "      <td>Old_age_Males</td>\n",
       "      <td>Refurbished</td>\n",
       "      <td>COMPUTERS</td>\n",
       "      <td>OP777</td>\n",
       "    </tr>\n",
       "  </tbody>\n",
       "</table>\n",
       "<p>1441 rows × 6 columns</p>\n",
       "</div>"
      ],
      "text/plain": [
       "     Return_date          State   Age_Category     CONDTION        P_CATEGORY  \\\n",
       "5     2014-05-22  Massachusetts  Old_age_Males  Refurbished             DECOR   \n",
       "6     2014-10-28  Massachusetts  Old_age_Males          New     BABY CLOTHING   \n",
       "7     2014-01-23  Massachusetts  Old_age_Males         Used   OFFICE SUPPLIES   \n",
       "8     2014-09-02  Massachusetts  Old_age_Males          New             SHOES   \n",
       "9     2014-04-11  Massachusetts  Old_age_Males         Used           LUGGAGE   \n",
       "...          ...            ...            ...          ...               ...   \n",
       "9334  2014-02-21        Arizona  Old_age_Males          New  KITCHEN & DINING   \n",
       "9359  2014-03-24       Illinois  Old_age_Males          New  KITCHEN & DINING   \n",
       "9360  2014-04-08       Illinois  Old_age_Males         Used             GAMES   \n",
       "9361  2014-03-29       Illinois  Old_age_Males          New  KITCHEN & DINING   \n",
       "9362  2014-01-29       Illinois  Old_age_Males  Refurbished         COMPUTERS   \n",
       "\n",
       "     Coupon_ID  \n",
       "5        GK692  \n",
       "6        EJ951  \n",
       "7        BW988  \n",
       "8        BN710  \n",
       "9        GQ188  \n",
       "...        ...  \n",
       "9334     CI397  \n",
       "9359     QB548  \n",
       "9360     HA460  \n",
       "9361     XY385  \n",
       "9362     OP777  \n",
       "\n",
       "[1441 rows x 6 columns]"
      ]
     },
     "execution_count": 86,
     "metadata": {},
     "output_type": "execute_result"
    }
   ],
   "source": [
    "df_combined[['Return_date','State','Age_Category','CONDTION','P_CATEGORY','Coupon_ID']].loc[df_return_customer_data]"
   ]
  },
  {
   "cell_type": "code",
   "execution_count": 87,
   "id": "827473b6-316e-43b0-96cd-0ef88d328c28",
   "metadata": {},
   "outputs": [
    {
     "data": {
      "text/plain": [
       "Index(['Credit_card', 'Product_ID', 'P_CATEGORY', 'CONDTION', 'Brand',\n",
       "       'Price ', 'Selling_price', 'Coupon_ID', 'Date', 'Time', 'GTIN', 'MPN',\n",
       "       'Merchant_name', 'M_ID', 'Payment Method', 'Transaction ID',\n",
       "       'Return_ind', 'Return_date', 'return_date_is_after_purchase date',\n",
       "       'Email', 'Name', 'Mobile_number', 'Gender', 'Age', 'City ', 'State',\n",
       "       'Address', 'Age_Category'],\n",
       "      dtype='object')"
      ]
     },
     "execution_count": 87,
     "metadata": {},
     "output_type": "execute_result"
    }
   ],
   "source": [
    "df_combined.columns"
   ]
  },
  {
   "cell_type": "code",
   "execution_count": 88,
   "id": "dda1cc72-17be-42ad-bfb8-c078d87dcad4",
   "metadata": {},
   "outputs": [
    {
     "data": {
      "text/plain": [
       "0       17:16:17\n",
       "1       17:00:44\n",
       "2       15:55:47\n",
       "3       21:25:54\n",
       "4       14:28:23\n",
       "          ...   \n",
       "9382    10:48:06\n",
       "9383    09:38:28\n",
       "9384    22:53:20\n",
       "9385    10:15:58\n",
       "9386    10:48:06\n",
       "Name: Time, Length: 9387, dtype: object"
      ]
     },
     "execution_count": 88,
     "metadata": {},
     "output_type": "execute_result"
    }
   ],
   "source": [
    "df_combined['Time']"
   ]
  },
  {
   "cell_type": "code",
   "execution_count": 110,
   "id": "12f2e302-e979-4d31-b63d-164d848cdf6d",
   "metadata": {},
   "outputs": [
    {
     "data": {
      "text/plain": [
       "Index([   0,    3,    6,    8,   11,   14,   16,   19,   22,   24,\n",
       "       ...\n",
       "       9322, 9326, 9330, 9360, 9364, 9368, 9372, 9376, 9380, 9384],\n",
       "      dtype='int64', length=2710)"
      ]
     },
     "execution_count": 110,
     "metadata": {},
     "output_type": "execute_result"
    }
   ],
   "source": [
    "df_combined.index[(df_combined['Time']>='17:16:17') & (df_combined['Time']>=' 20:16:17')]"
   ]
  },
  {
   "cell_type": "code",
   "execution_count": 112,
   "id": "662a45ba-6811-4d9a-98c5-b9e1ba095a85",
   "metadata": {},
   "outputs": [
    {
     "data": {
      "text/plain": [
       "Credit_card                                           4595\n",
       "Product_ID                                             132\n",
       "P_CATEGORY                                         BEDDING\n",
       "CONDTION                                               New\n",
       "Brand                                                PIUEM\n",
       "Price                                                 2451\n",
       "Selling_price                                         2430\n",
       "Coupon_ID                                            XJ930\n",
       "Date                                   2014-01-04 00:00:00\n",
       "Time                                              21:25:54\n",
       "GTIN                                               8453672\n",
       "MPN                                              784151465\n",
       "Merchant_name                                     DODOcase\n",
       "M_ID                                                UW7353\n",
       "Payment Method                                 Credit card\n",
       "Transaction ID                                       94605\n",
       "Return_ind                                               0\n",
       "Return_date                            1970-01-01 00:00:00\n",
       "return_date_is_after_purchase date                   False\n",
       "Email                                 andrea@yahoomail.com\n",
       "Name                                                ANDREA\n",
       "Mobile_number                                   9467152868\n",
       "Gender                                                   M\n",
       "Age                                                     68\n",
       "City                                                Boston\n",
       "State                                        Massachusetts\n",
       "Address                                             Masked\n",
       "Age_Category                                 Old_age_Males\n",
       "Name: 3, dtype: object"
      ]
     },
     "execution_count": 112,
     "metadata": {},
     "output_type": "execute_result"
    }
   ],
   "source": [
    "df_combined['Time'].loc[3]"
   ]
  },
  {
   "cell_type": "code",
   "execution_count": null,
   "id": "06520f23-05b3-4a65-8923-26ac5496a854",
   "metadata": {},
   "outputs": [],
   "source": []
  }
 ],
 "metadata": {
  "kernelspec": {
   "display_name": "Python 3 (ipykernel)",
   "language": "python",
   "name": "python3"
  },
  "language_info": {
   "codemirror_mode": {
    "name": "ipython",
    "version": 3
   },
   "file_extension": ".py",
   "mimetype": "text/x-python",
   "name": "python",
   "nbconvert_exporter": "python",
   "pygments_lexer": "ipython3",
   "version": "3.12.1"
  }
 },
 "nbformat": 4,
 "nbformat_minor": 5
}
